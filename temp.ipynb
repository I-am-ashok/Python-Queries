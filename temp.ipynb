{
 "cells": [
  {
   "cell_type": "code",
   "execution_count": 22,
   "metadata": {},
   "outputs": [
    {
     "data": {
      "text/plain": [
       "[2, 3, 4, 5, 6, 7]"
      ]
     },
     "execution_count": 22,
     "metadata": {},
     "output_type": "execute_result"
    }
   ],
   "source": [
    "list=[1,2,3,4,5,6,7,8]\n",
    "list[1:-1]"
   ]
  },
  {
   "cell_type": "code",
   "execution_count": 28,
   "metadata": {},
   "outputs": [
    {
     "name": "stdout",
     "output_type": "stream",
     "text": [
      "Factorial of 5 is 120\n"
     ]
    }
   ],
   "source": [
    "# Finding Factorial\n",
    "\n",
    "def Factorial(n):\n",
    "    if n==0:\n",
    "        return 1\n",
    "    else:\n",
    "        return n*Factorial(n-1)\n",
    "n=5\n",
    "print(f\"Factorial of {n} is {Factorial(n)}\")"
   ]
  },
  {
   "cell_type": "code",
   "execution_count": 39,
   "metadata": {},
   "outputs": [
    {
     "name": "stdout",
     "output_type": "stream",
     "text": [
      "The Number 23 found in the position 5 in the array [1, 2, 3, 4, 5, 23, 33, 45, 45, 67, 78, 98]\n"
     ]
    }
   ],
   "source": [
    "# Binary Search implementation\n",
    "\n",
    "def binarySearch(array,Num):\n",
    "    left,right=0,len(array)-1\n",
    "    while left<=right:\n",
    "        mid=(left+right)//2 \n",
    "        if array[mid]==Num:\n",
    "            return mid\n",
    "        elif array[mid]<Num:\n",
    "            left=mid+1\n",
    "        else:\n",
    "            right=mid-1\n",
    "    return -1\n",
    "array=sorted([1,2,3,4,5,33,45,67,78,98,23,45])\n",
    "Num=23\n",
    "pos=binarySearch(array,Num)\n",
    "\n",
    "def statements():\n",
    "    if pos==-1:\n",
    "        print(f\"{Num} not found in the {array}\")\n",
    "    else:\n",
    "        print(f\"The Number {Num} found in the position {pos} in the array {array}\")\n",
    "        \n",
    "    "
   ]
  },
  {
   "cell_type": "code",
   "execution_count": 52,
   "metadata": {},
   "outputs": [
    {
     "name": "stdout",
     "output_type": "stream",
     "text": [
      "404 not found in the array [1, 2, 3, 4, 5, 33, 45, 67, 78, 98, 23, 405]\n"
     ]
    }
   ],
   "source": [
    "# liner search \n",
    "def linersearch(array, Num):\n",
    "    for i in range(len(array)):\n",
    "        if array[i]==Num:\n",
    "            return i\n",
    "    return -1\n",
    "array=[1,2,3,4,5,33,45,67,78,98,23,405]\n",
    "Num=404\n",
    "\n",
    "pos=linersearch(array,Num)\n",
    "if pos==-1:\n",
    "    print(f\"{Num} not found in the array {array}\")\n",
    "else:\n",
    "    print(f\"The Number {Num} found in the position {pos} in the array {array}\")\n",
    "\n",
    "    "
   ]
  },
  {
   "cell_type": "code",
   "execution_count": 58,
   "metadata": {},
   "outputs": [
    {
     "name": "stdout",
     "output_type": "stream",
     "text": [
      "The Number 2 found in the position 1 in the array [1, 2, 3, 4, 5, 33, 45, 67, 78, 98, 23, 405]\n"
     ]
    }
   ],
   "source": [
    "# Jump search\n",
    "\n",
    "def jumpsearch(array,Num):\n",
    "    import math\n",
    "    length=len(array)\n",
    "    jump=int(math.sqrt(length))\n",
    "    prev,curr=0,jump\n",
    "    while curr<length  and array[jump]<Num:\n",
    "        prev=curr\n",
    "        curr+=jump\n",
    "    for i in range(prev,min(curr,length)):\n",
    "        if array[i]==Num:\n",
    "            return i\n",
    "    return -1\n",
    "array=[1,2,3,4,5,33,45,67,78,98,23,405]\n",
    "Num=2\n",
    "\n",
    "pos=jumpsearch(array,Num)\n",
    "if pos==-1:\n",
    "    print(f\"{Num} not found in the array {array}\")\n",
    "else:\n",
    "    print(f\"The Number {Num} found in the position {pos} in the array {array}\")\n",
    "        \n",
    "        "
   ]
  },
  {
   "cell_type": "code",
   "execution_count": null,
   "metadata": {},
   "outputs": [],
   "source": []
  }
 ],
 "metadata": {
  "kernelspec": {
   "display_name": "gcp_venv",
   "language": "python",
   "name": "python3"
  },
  "language_info": {
   "codemirror_mode": {
    "name": "ipython",
    "version": 3
   },
   "file_extension": ".py",
   "mimetype": "text/x-python",
   "name": "python",
   "nbconvert_exporter": "python",
   "pygments_lexer": "ipython3",
   "version": "3.12.1"
  }
 },
 "nbformat": 4,
 "nbformat_minor": 2
}
